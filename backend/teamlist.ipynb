{
 "cells": [
  {
   "cell_type": "code",
   "execution_count": 9,
   "metadata": {},
   "outputs": [
    {
     "name": "stdout",
     "output_type": "stream",
     "text": [
      "[121849, 46465, 46468, 46471, 98485, 154568, 169590, 169669, 110896, 169750, 169751, 133474, 169776, 78132, 78134, 79175, 107040, 138841, 109693, 102975, 154029, 170054, 170204, 170205, 141212, 157577, 111660, 131366, 74175, 101992, 161029, 74174, 74173, 74172, 170287, 26932, 28438, 28441, 40945, 64868, 140967, 4086, 4096, 4101, 4106, 4116, 26686, 26689, 139683, 172076, 172727, 172967, 172968, 173024, 136488, 17032, 17035, 83827, 3441, 25570, 27013, 35863, 14704, 157067, 81691, 49878, 157068, 130499, 56191, 39544, 173800, 50999, 36862, 155640, 158054, 158055, 15001, 14998, 51000, 158051, 175524, 53190, 53222, 43639, 176155, 46474, 98329, 135883, 131943, 131952, 138962, 176437, 176442, 107622, 176492, 4091, 4111, 26668, 26683, 54326, 54327, 160910, 160911, 67311, 140834, 63681, 168065, 177857, 146827, 178023, 178024, 146829, 178463, 76817, 76818, 117062, 43747, 66423, 119695, 119696, 119697, 119698, 4166, 88963, 179542, 5666, 179867, 180039, 161426, 115412, 164326, 181238, 156054, 181972, 182377, 48711, 78014, 76876, 161908]\n"
     ]
    }
   ],
   "source": [
    "import pandas as pd\n",
    "\n",
    "df = pd.read_json('skills_data.json')\n",
    "\n",
    "team_list = df[\"team_id\"].tolist()\n",
    "print(team_list)\n"
   ]
  },
  {
   "cell_type": "code",
   "execution_count": null,
   "metadata": {},
   "outputs": [],
   "source": [
    "Team 2072A for Tournament Champions (VRC/VEXU/VAIRC) at RE-V5RC-24-5677: Enginotic 6 V5RC Blended October Qualifier\n",
    "Team 63975D for Tournament Champions (VRC/VEXU/VAIRC) at RE-V5RC-24-5677: Enginotic 6 V5RC Blended October Qualifier\n",
    "Team 2072A for Excellence Award - High School (VRC/VAIRC) at RE-V5RC-24-6041: Bruin in the Den V5RC\n",
    "Team 2145Z for Tournament Champions (VRC/VEXU/VAIRC) at RE-V5RC-24-6041: Bruin in the Den V5RC\n",
    "Team 71999A: Invited to register for RE-V5RC-24-8497 using fill from double qualifications (from RE-V5RC-24-6041)\n",
    "Team 99157B: Invited to register for RE-V5RC-24-8497 using fill from double qualifications (from RE-V5RC-24-6041)\n",
    "Team 80708Y for Tournament Champions (VRC/VEXU/VAIRC) at RE-V5RC-24-5857: All Saints V5RC Tournament (MS/HS) - 16 Nov\n",
    "Team 2145Z for Tournament Champions (VRC/VEXU/VAIRC) at RE-V5RC-24-5857: All Saints V5RC Tournament (MS/HS) - 16 Nov\n",
    "Team 2072A for Tournament Champions (VRC/VEXU/VAIRC) at RE-V5RC-24-6041: Bruin in the Den V5RC\n",
    "Team 2145Z for Design Award (VRC/VEXU/VAIRC) at RE-V5RC-24-6041: Bruin in the Den V5RC\n",
    "Team 1575W for Excellence Award (VRC/VEXU/VAIRC) at RE-V5RC-24-5659: Battle of the Bridge V5RC - High School Tournament\n",
    "Team 20164X for Tournament Champions (VRC/VEXU/VAIRC) at RE-V5RC-24-5659: Battle of the Bridge V5RC - High School Tournament\n",
    "Team 6603C for Design Award (VRC/VEXU/VAIRC) at RE-V5RC-24-5659: Battle of the Bridge V5RC - High School Tournament\n",
    "Team 2145Z for Robot Skills Champion (VRC/VEXU/VAIRC) at RE-V5RC-24-5659: Battle of the Bridge V5RC - High School Tournament\n",
    "Team 2072A: Invited to register for RE-V5RC-24-8497 using fill from double qualifications (from RE-V5RC-24-5659)\n",
    "Team 2072X for Tournament Champions (VRC/VEXU/VAIRC) at RE-V5RC-24-5856: V5RC Seton Christmas Tournament (MS/HS)\n",
    "Team 63975D: Invited to register for RE-V5RC-24-8497 using fill from double qualifications (from RE-V5RC-24-5856)\n",
    "Team 80708Y for Excellence Award (VRC/VEXU/VAIRC) at RE-V5RC-24-5607: Potomac School V5RC Winter Classic (High School Only)\n",
    "Team 12C for Tournament Champions (VRC/VEXU/VAIRC) at RE-V5RC-24-5607: Potomac School V5RC Winter Classic (High School Only)\n",
    "Team 2509A for Tournament Champions (VRC/VEXU/VAIRC) at RE-V5RC-24-5607: Potomac School V5RC Winter Classic (High School Only)\n",
    "Team 2145Z for Design Award (VRC/VEXU/VAIRC) at RE-V5RC-24-5607: Potomac School V5RC Winter Classic (High School Only)\n",
    "Team 50878X for Excellence Award (VRC/VEXU/VAIRC) at RE-V5RC-24-5955: 25Jan V5RC High Stakes Tournament at Glen Allen High (MS/HS)\n",
    "Team 12C for Tournament Champions (VRC/VEXU/VAIRC) at RE-V5RC-24-5955: 25Jan V5RC High Stakes Tournament at Glen Allen High (MS/HS)\n",
    "Team 50805H for Tournament Champions (VRC/VEXU/VAIRC) at RE-V5RC-24-5955: 25Jan V5RC High Stakes Tournament at Glen Allen High (MS/HS)\n",
    "Team 1575W for Excellence Award (VRC/VEXU/VAIRC) at RE-V5RC-24-5662: Roboticon 2025 (PWCS Invitational - HS Only)\n",
    "Team 1575X for Tournament Champions (VRC/VEXU/VAIRC) at RE-V5RC-24-5662: Roboticon 2025 (PWCS Invitational - HS Only)\n",
    "Team 6603C for Design Award (VRC/VEXU/VAIRC) at RE-V5RC-24-5662: Roboticon 2025 (PWCS Invitational - HS Only)\n",
    "Team 20164T: Invited to register for RE-V5RC-24-8497 using fill from double qualifications (from RE-V5RC-24-5662)\n",
    "Team 154D for Robot Skills Champion (VRC/VEXU/VAIRC) at RE-V5RC-24-6410: All Saints Skills Tournament (10:00 AM - Noon)\n",
    "Team 80208K for Robot Skills Champion (VRC/VEXU/VAIRC) at RE-V5RC-24-6943: All Saints Skills Tournament (1:30 PM - 3:30 PM)"
   ]
  },
  {
   "cell_type": "code",
   "execution_count": 7,
   "metadata": {},
   "outputs": [
    {
     "name": "stdout",
     "output_type": "stream",
     "text": [
      "   team_name\n",
      "0        12C\n",
      "1       154D\n",
      "2      1575W\n",
      "3      1575X\n",
      "4     20164T\n",
      "5     20164X\n",
      "6      2072A\n",
      "7      2072A\n",
      "8      2072X\n",
      "9      2145Z\n",
      "10     2509A\n",
      "11    50805H\n",
      "12    50878X\n",
      "13    63975D\n",
      "14    63975D\n",
      "15     6603C\n",
      "16    71999A\n",
      "17    80208K\n",
      "18    80708Y\n",
      "19    99157B\n"
     ]
    }
   ],
   "source": [
    "import re\n",
    "import pandas as pd\n",
    "\n",
    "qual_list = \"\"\"\n",
    "Team 2072A for Tournament Champions (VRC/VEXU/VAIRC) at RE-V5RC-24-5677: Enginotic 6 V5RC Blended October Qualifier\n",
    "Team 63975D for Tournament Champions (VRC/VEXU/VAIRC) at RE-V5RC-24-5677: Enginotic 6 V5RC Blended October Qualifier\n",
    "Team 2072A for Excellence Award - High School (VRC/VAIRC) at RE-V5RC-24-6041: Bruin in the Den V5RC\n",
    "Team 2145Z for Tournament Champions (VRC/VEXU/VAIRC) at RE-V5RC-24-6041: Bruin in the Den V5RC\n",
    "Team 71999A: Invited to register for RE-V5RC-24-8497 using fill from double qualifications (from RE-V5RC-24-6041)\n",
    "Team 99157B: Invited to register for RE-V5RC-24-8497 using fill from double qualifications (from RE-V5RC-24-6041)\n",
    "Team 80708Y for Tournament Champions (VRC/VEXU/VAIRC) at RE-V5RC-24-5857: All Saints V5RC Tournament (MS/HS) - 16 Nov\n",
    "Team 2145Z for Tournament Champions (VRC/VEXU/VAIRC) at RE-V5RC-24-5857: All Saints V5RC Tournament (MS/HS) - 16 Nov\n",
    "Team 2072A for Tournament Champions (VRC/VEXU/VAIRC) at RE-V5RC-24-6041: Bruin in the Den V5RC\n",
    "Team 2145Z for Design Award (VRC/VEXU/VAIRC) at RE-V5RC-24-6041: Bruin in the Den V5RC\n",
    "Team 1575W for Excellence Award (VRC/VEXU/VAIRC) at RE-V5RC-24-5659: Battle of the Bridge V5RC - High School Tournament\n",
    "Team 20164X for Tournament Champions (VRC/VEXU/VAIRC) at RE-V5RC-24-5659: Battle of the Bridge V5RC - High School Tournament\n",
    "Team 6603C for Design Award (VRC/VEXU/VAIRC) at RE-V5RC-24-5659: Battle of the Bridge V5RC - High School Tournament\n",
    "Team 2145Z for Robot Skills Champion (VRC/VEXU/VAIRC) at RE-V5RC-24-5659: Battle of the Bridge V5RC - High School Tournament\n",
    "Team 2072A: Invited to register for RE-V5RC-24-8497 using fill from double qualifications (from RE-V5RC-24-5659)\n",
    "Team 2072X for Tournament Champions (VRC/VEXU/VAIRC) at RE-V5RC-24-5856: V5RC Seton Christmas Tournament (MS/HS)\n",
    "Team 63975D: Invited to register for RE-V5RC-24-8497 using fill from double qualifications (from RE-V5RC-24-5856)\n",
    "Team 80708Y for Excellence Award (VRC/VEXU/VAIRC) at RE-V5RC-24-5607: Potomac School V5RC Winter Classic (High School Only)\n",
    "Team 12C for Tournament Champions (VRC/VEXU/VAIRC) at RE-V5RC-24-5607: Potomac School V5RC Winter Classic (High School Only)\n",
    "Team 2509A for Tournament Champions (VRC/VEXU/VAIRC) at RE-V5RC-24-5607: Potomac School V5RC Winter Classic (High School Only)\n",
    "Team 2145Z for Design Award (VRC/VEXU/VAIRC) at RE-V5RC-24-5607: Potomac School V5RC Winter Classic (High School Only)\n",
    "Team 50878X for Excellence Award (VRC/VEXU/VAIRC) at RE-V5RC-24-5955: 25Jan V5RC High Stakes Tournament at Glen Allen High (MS/HS)\n",
    "Team 12C for Tournament Champions (VRC/VEXU/VAIRC) at RE-V5RC-24-5955: 25Jan V5RC High Stakes Tournament at Glen Allen High (MS/HS)\n",
    "Team 50805H for Tournament Champions (VRC/VEXU/VAIRC) at RE-V5RC-24-5955: 25Jan V5RC High Stakes Tournament at Glen Allen High (MS/HS)\n",
    "Team 1575W for Excellence Award (VRC/VEXU/VAIRC) at RE-V5RC-24-5662: Roboticon 2025 (PWCS Invitational - HS Only)\n",
    "Team 1575X for Tournament Champions (VRC/VEXU/VAIRC) at RE-V5RC-24-5662: Roboticon 2025 (PWCS Invitational - HS Only)\n",
    "Team 6603C for Design Award (VRC/VEXU/VAIRC) at RE-V5RC-24-5662: Roboticon 2025 (PWCS Invitational - HS Only)\n",
    "Team 20164T: Invited to register for RE-V5RC-24-8497 using fill from double qualifications (from RE-V5RC-24-5662)\n",
    "Team 154D for Robot Skills Champion (VRC/VEXU/VAIRC) at RE-V5RC-24-6410: All Saints Skills Tournament (10:00 AM - Noon)\n",
    "Team 80208K for Robot Skills Champion (VRC/VEXU/VAIRC) at RE-V5RC-24-6943: All Saints Skills Tournament (1:30 PM - 3:30 PM)\n",
    "\"\"\"\n",
    "\n",
    "# Extract all team names following \"Team \"\n",
    "team_names = re.findall(r\"Team (\\S+)\", qual_list)\n",
    "\n",
    "# Remove duplicates and sort\n",
    "unique_team_names = sorted(set(team_names))\n",
    "unique_team_names = [name.rstrip(':') for name in unique_team_names]\n",
    "# Display the result\n",
    "qualified_df = pd.DataFrame(unique_team_names, columns=['team_name'])\n",
    "print(qualified_df)\n",
    "\n",
    "qualified_df.to_json('qualified.json')\n",
    "\n",
    "\n"
   ]
  }
 ],
 "metadata": {
  "kernelspec": {
   "display_name": ".venv",
   "language": "python",
   "name": "python3"
  },
  "language_info": {
   "codemirror_mode": {
    "name": "ipython",
    "version": 3
   },
   "file_extension": ".py",
   "mimetype": "text/x-python",
   "name": "python",
   "nbconvert_exporter": "python",
   "pygments_lexer": "ipython3",
   "version": "3.11.11"
  }
 },
 "nbformat": 4,
 "nbformat_minor": 2
}
